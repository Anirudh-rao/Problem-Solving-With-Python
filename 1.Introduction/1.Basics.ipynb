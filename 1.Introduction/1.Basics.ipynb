{
 "cells": [
  {
   "cell_type": "markdown",
   "id": "3df42904",
   "metadata": {},
   "source": [
    "# Basics Of Python\n",
    "\n",
    "1. Single Line and Multi Line Comments\n",
    "\n",
    "2. Definition of Syntax and Symatics\n",
    "\n",
    "3. Bascis syntax and Rules of Python\n",
    "\n",
    "4. Understanding smeantics of Python\n",
    "\n",
    "5. Common syntax Errors and How to avoid them \n",
    "\n",
    "6. Practical Code Examples"
   ]
  },
  {
   "cell_type": "code",
   "execution_count": 3,
   "id": "3abbd6e0",
   "metadata": {},
   "outputs": [
    {
     "data": {
      "text/plain": [
       "'\\nMulti Line Comments\\n'"
      ]
     },
     "execution_count": 3,
     "metadata": {},
     "output_type": "execute_result"
    }
   ],
   "source": [
    "# Single Line Comment\n",
    "\n",
    "## The Below is\n",
    "## A multi-Line Comment\n",
    "\n",
    "\n",
    "'''\n",
    "Multi Line Comments\n",
    "'''"
   ]
  },
  {
   "cell_type": "code",
   "execution_count": 5,
   "id": "370034a3",
   "metadata": {},
   "outputs": [
    {
     "data": {
      "text/plain": [
       "'\\nPython is a case sensitive language \\nand  indendation based language\\n'"
      ]
     },
     "execution_count": 5,
     "metadata": {},
     "output_type": "execute_result"
    }
   ],
   "source": [
    "'''\n",
    "Python is a case sensitive language \n",
    "and  indendation based language\n",
    "'''"
   ]
  },
  {
   "cell_type": "code",
   "execution_count": 6,
   "id": "0bb7079f",
   "metadata": {},
   "outputs": [
    {
     "name": "stdout",
     "output_type": "stream",
     "text": [
      "Rao\n",
      "Rao\n"
     ]
    }
   ],
   "source": [
    "name = \"Krish\"\n",
    "name = \"Rao\"\n",
    "\n",
    "print(name)\n",
    "print(name)"
   ]
  },
  {
   "cell_type": "code",
   "execution_count": 12,
   "id": "0975fa2e",
   "metadata": {},
   "outputs": [
    {
     "name": "stdout",
     "output_type": "stream",
     "text": [
      "The age is 32\n"
     ]
    }
   ],
   "source": [
    "#Basic Intendation\n",
    "age= 32\n",
    "if age > 32:\n",
    "    #Python Automatically Gives space\n",
    "    print(\"Age is 32\")\n",
    "\n",
    "print(\"The age is 32\")"
   ]
  }
 ],
 "metadata": {
  "kernelspec": {
   "display_name": ".venv (3.13.5)",
   "language": "python",
   "name": "python3"
  },
  "language_info": {
   "codemirror_mode": {
    "name": "ipython",
    "version": 3
   },
   "file_extension": ".py",
   "mimetype": "text/x-python",
   "name": "python",
   "nbconvert_exporter": "python",
   "pygments_lexer": "ipython3",
   "version": "3.13.5"
  }
 },
 "nbformat": 4,
 "nbformat_minor": 5
}
