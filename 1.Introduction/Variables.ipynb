{
 "cells": [
  {
   "cell_type": "markdown",
   "id": "276cfddc",
   "metadata": {},
   "source": [
    "# Variables\n",
    "\n",
    "Variables are fundamental programmming elements used to store data can be referenced manipulated in a program .\n",
    "\n",
    "Section overview:\n",
    "\n",
    "1. Introductio to Variables\n",
    "\n",
    "2. Declaring and Assigning Variables\n",
    "\n",
    "3. Naming Convensions\n",
    "\n",
    "4. Understanding variable types\n",
    "\n",
    "5. Type Checking and Conversion\n",
    "\n",
    "6. Dynamic Tying"
   ]
  },
  {
   "cell_type": "code",
   "execution_count": 1,
   "id": "75a0188a",
   "metadata": {},
   "outputs": [],
   "source": [
    "a=100"
   ]
  },
  {
   "cell_type": "code",
   "execution_count": 3,
   "id": "2a7bae56",
   "metadata": {},
   "outputs": [
    {
     "name": "stdout",
     "output_type": "stream",
     "text": [
      "Age : 32\n",
      "Height: 6.1\n",
      "Name: anirudh\n",
      "If student: True\n",
      "Total: 10.5\n"
     ]
    }
   ],
   "source": [
    "#Declaring and Assiging Variables\n",
    "\n",
    "age =32\n",
    "height = 6.1\n",
    "name=\"anirudh\"\n",
    "Is_student = True\n",
    "Count = 10.5\n",
    "\n",
    "print(\"Age :\",age)\n",
    "print(\"Height:\",height)\n",
    "print(\"Name:\",name)\n",
    "print(\"If student:\",Is_student)\n",
    "print(\"Total:\",Count)\n"
   ]
  },
  {
   "cell_type": "code",
   "execution_count": 5,
   "id": "82be585b",
   "metadata": {},
   "outputs": [],
   "source": [
    "#Naming Convension\n",
    "#Valid naming Convension\n",
    "age =32\n",
    "height = 6.1\n",
    "name=\"anirudh\"\n",
    "Is_student = True\n",
    "Count = 10.5\n",
    "\n",
    "#Invalid Naming Convension\n",
    "#@age =32\n",
    "#h-eight = 6.1\n",
    "#3name=\"anirudh\"\n",
    "#Is-student = True\n",
    "#5Count = 10.5\n"
   ]
  },
  {
   "cell_type": "code",
   "execution_count": 6,
   "id": "1e798704",
   "metadata": {},
   "outputs": [
    {
     "name": "stdout",
     "output_type": "stream",
     "text": [
      "<class 'int'>\n",
      "<class 'float'>\n",
      "<class 'str'>\n",
      "<class 'bool'>\n",
      "<class 'float'>\n"
     ]
    }
   ],
   "source": [
    "#Variable and Types\n",
    "age =32\n",
    "height = 6.1\n",
    "name=\"anirudh\"\n",
    "Is_student = True\n",
    "Count = 10.5\n",
    "\n",
    "print(type(age))\n",
    "print(type(height))\n",
    "print(type(name))\n",
    "print(type(Is_student))\n",
    "print(type(Count))\n",
    "\n"
   ]
  },
  {
   "cell_type": "code",
   "execution_count": 7,
   "id": "f5317585",
   "metadata": {},
   "outputs": [
    {
     "name": "stdout",
     "output_type": "stream",
     "text": [
      "<class 'int'>\n"
     ]
    }
   ],
   "source": [
    "#Type Conversion\n",
    "age='25'\n",
    "b=int(age)\n",
    "print(type(b))"
   ]
  },
  {
   "cell_type": "code",
   "execution_count": 8,
   "id": "de784863",
   "metadata": {},
   "outputs": [
    {
     "ename": "ValueError",
     "evalue": "invalid literal for int() with base 10: 'Anirudh'",
     "output_type": "error",
     "traceback": [
      "\u001b[31m---------------------------------------------------------------------------\u001b[39m",
      "\u001b[31mValueError\u001b[39m                                Traceback (most recent call last)",
      "\u001b[36mCell\u001b[39m\u001b[36m \u001b[39m\u001b[32mIn[8]\u001b[39m\u001b[32m, line 2\u001b[39m\n\u001b[32m      1\u001b[39m name=\u001b[33m\"\u001b[39m\u001b[33mAnirudh\u001b[39m\u001b[33m\"\u001b[39m\n\u001b[32m----> \u001b[39m\u001b[32m2\u001b[39m nae = \u001b[38;5;28;43mint\u001b[39;49m\u001b[43m(\u001b[49m\u001b[43mname\u001b[49m\u001b[43m)\u001b[49m\n\u001b[32m      3\u001b[39m \u001b[38;5;28mprint\u001b[39m(\u001b[38;5;28mtype\u001b[39m(nae))\n",
      "\u001b[31mValueError\u001b[39m: invalid literal for int() with base 10: 'Anirudh'"
     ]
    }
   ],
   "source": [
    "name=\"Anirudh\"\n",
    "nae = int(name)\n",
    "print(type(nae))\n"
   ]
  },
  {
   "cell_type": "code",
   "execution_count": 9,
   "id": "7a8370aa",
   "metadata": {},
   "outputs": [
    {
     "name": "stdout",
     "output_type": "stream",
     "text": [
      "<class 'int'>\n"
     ]
    }
   ],
   "source": [
    "flota = 3.2\n",
    "it = int(flota)\n",
    "print(type(it))"
   ]
  },
  {
   "cell_type": "code",
   "execution_count": 10,
   "id": "e3b4a136",
   "metadata": {},
   "outputs": [
    {
     "name": "stdout",
     "output_type": "stream",
     "text": [
      "<class 'float'>\n"
     ]
    }
   ],
   "source": [
    "flota = 40\n",
    "it = float(flota)\n",
    "print(type(it))"
   ]
  },
  {
   "cell_type": "code",
   "execution_count": 11,
   "id": "ac9e95cf",
   "metadata": {},
   "outputs": [
    {
     "name": "stdout",
     "output_type": "stream",
     "text": [
      "<class 'float'>\n"
     ]
    }
   ],
   "source": [
    "flota = '40'\n",
    "it = float(flota)\n",
    "print(type(it))"
   ]
  },
  {
   "cell_type": "code",
   "execution_count": 13,
   "id": "3d39290f",
   "metadata": {},
   "outputs": [
    {
     "name": "stdout",
     "output_type": "stream",
     "text": [
      "Sum =  25.0\n",
      "Sub =  -1.0\n",
      "Mul =  156.0\n",
      "Div =  0.9230769230769231\n"
     ]
    }
   ],
   "source": [
    "#Simple Project\n",
    "\n",
    "num1 = float(input(\"Enter first number\"))\n",
    "num2 = float(input(\"Enter Second number\"))\n",
    "\n",
    "\n",
    "Sum = num1 + num2\n",
    "Sub = num1 - num2\n",
    "Mul = num1*num2\n",
    "div = num1/num2\n",
    "\n",
    "print(\"Sum = \",Sum)\n",
    "print(\"Sub = \",Sub)\n",
    "print(\"Mul = \",Mul)\n",
    "print(\"Div = \",div)"
   ]
  }
 ],
 "metadata": {
  "kernelspec": {
   "display_name": ".venv (3.13.5)",
   "language": "python",
   "name": "python3"
  },
  "language_info": {
   "codemirror_mode": {
    "name": "ipython",
    "version": 3
   },
   "file_extension": ".py",
   "mimetype": "text/x-python",
   "name": "python",
   "nbconvert_exporter": "python",
   "pygments_lexer": "ipython3",
   "version": "3.13.5"
  }
 },
 "nbformat": 4,
 "nbformat_minor": 5
}
