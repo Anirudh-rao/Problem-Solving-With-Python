{
 "cells": [
  {
   "cell_type": "markdown",
   "id": "8adcaa69",
   "metadata": {},
   "source": [
    "## Conditonals in Python\n",
    "\n",
    "1. Introduction to Conditonals Statements\n",
    "2. If Statements\n",
    "3. Else Statements\n",
    "4. Eliif Statements\n",
    "5. Nested Conditonals Statements\n",
    "6. Practical Examples\n",
    "\n",
    "\n"
   ]
  },
  {
   "cell_type": "code",
   "execution_count": 1,
   "id": "5917580d",
   "metadata": {},
   "outputs": [
    {
     "name": "stdout",
     "output_type": "stream",
     "text": [
      "Age is more that 20\n"
     ]
    }
   ],
   "source": [
    "## if Statement\n",
    "Age = 30\n",
    "\n",
    "if  Age >= 20:\n",
    "    print(\"Age is more that 20\")"
   ]
  },
  {
   "cell_type": "code",
   "execution_count": 2,
   "id": "96679c45",
   "metadata": {},
   "outputs": [
    {
     "name": "stdout",
     "output_type": "stream",
     "text": [
      "You are a minor\n"
     ]
    }
   ],
   "source": [
    "# Else Statement\n",
    "age = 30\n",
    "\n",
    "if age > 30:\n",
    "    print('Age is more that 30')\n",
    "else: \n",
    "    print('You are a minor')"
   ]
  },
  {
   "cell_type": "code",
   "execution_count": 6,
   "id": "f56f19c0",
   "metadata": {},
   "outputs": [
    {
     "name": "stdout",
     "output_type": "stream",
     "text": [
      "Enter your age\n",
      "Ok Fine your are older\n"
     ]
    }
   ],
   "source": [
    "# Elif Statement\n",
    "print('Enter your age')\n",
    "intput = int(input('Enter your age'))\n",
    "\n",
    "if age < 10:\n",
    "    print('OK But not ok')\n",
    "elif age < 18:\n",
    "    print('Grow a beard')\n",
    "else:\n",
    "    print('Ok Fine your are older')"
   ]
  },
  {
   "cell_type": "code",
   "execution_count": 13,
   "id": "b051ea8e",
   "metadata": {},
   "outputs": [
    {
     "name": "stdout",
     "output_type": "stream",
     "text": [
      "Boomer\n"
     ]
    }
   ],
   "source": [
    "# Nested Conditonals Statment\n",
    "age = int(input('Enter your age'))\n",
    "\n",
    "if age <= 18:\n",
    "    print('You are a child..Grow up')\n",
    "else:\n",
    "    if age > 18 and age <= 30:\n",
    "        print('Get a job genz')\n",
    "    else:\n",
    "        print('Boomer')\n"
   ]
  },
  {
   "cell_type": "code",
   "execution_count": 16,
   "id": "9b2825b9",
   "metadata": {},
   "outputs": [
    {
     "name": "stdout",
     "output_type": "stream",
     "text": [
      "Giver year 1980 is a Leap Year\n"
     ]
    }
   ],
   "source": [
    "# Practical Examples\n",
    "# Checking weather the year is leap Year\n",
    "\n",
    "year = int(input('Enter the year'))\n",
    "\n",
    "if year % 4 == 0:\n",
    "    if year % 100 == 0:\n",
    "        if year % 400 == 0:\n",
    "            print(f'Giver year {year} is a Leap Year')\n",
    "        else:\n",
    "            print(f'Giver year {year} is Not a Leap Year')\n",
    "    else:\n",
    "        print(f'Giver year {year} is a Leap Year')\n",
    "else:\n",
    "    print(f'Giver year {year} is Not a Leap Year')"
   ]
  },
  {
   "cell_type": "code",
   "execution_count": 19,
   "id": "89b8a967",
   "metadata": {},
   "outputs": [
    {
     "name": "stdout",
     "output_type": "stream",
     "text": [
      "Operation / on numbers 5 and 6 = 0.8333333333333334\n"
     ]
    }
   ],
   "source": [
    "# Simple Calculator\n",
    "X = int(input('Enter the Number X'))\n",
    "Y = int(input('Enter the Number Y'))\n",
    "Operation = (input('Enter Either of the Operation: +, - , * , /'))\n",
    "\n",
    "def CalculatorFunction(X,Y,Operation):\n",
    "    if Operation == '+':\n",
    "        result = X + Y\n",
    "    elif Operation == '-':\n",
    "        result = X - Y\n",
    "    elif Operation == '*':\n",
    "        if X == 0 or Y == 0:\n",
    "            result = 0\n",
    "        else:\n",
    "            result = X * Y\n",
    "\n",
    "    elif Operation == '/':\n",
    "        if X == 0 or Y == 0:\n",
    "            result = 0\n",
    "        else:\n",
    "            result = X / Y\n",
    "    else:\n",
    "        result = '-00'\n",
    "    return result\n",
    "\n",
    "result = CalculatorFunction(X, Y, Operation)\n",
    "if result == '-00':\n",
    "    print('The result is an Invalid Operation')\n",
    "else:\n",
    "    print(f\"Operation {Operation} on numbers {X} and {Y} = {result}\")\n"
   ]
  }
 ],
 "metadata": {
  "kernelspec": {
   "display_name": ".venv (3.13.5)",
   "language": "python",
   "name": "python3"
  },
  "language_info": {
   "codemirror_mode": {
    "name": "ipython",
    "version": 3
   },
   "file_extension": ".py",
   "mimetype": "text/x-python",
   "name": "python",
   "nbconvert_exporter": "python",
   "pygments_lexer": "ipython3",
   "version": "3.13.5"
  }
 },
 "nbformat": 4,
 "nbformat_minor": 5
}
