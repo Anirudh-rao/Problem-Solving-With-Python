{
 "cells": [
  {
   "cell_type": "markdown",
   "id": "35b5d053",
   "metadata": {},
   "source": [
    "## Introduction to Looping \n",
    "\n",
    "1. For Loop\n",
    "   1. Iterating over a range\n",
    "   2. Iterating over a string\n",
    "2. While Loop\n",
    "3. Loop Control Statement\n",
    "    1. Break\n",
    "    2. Continue\n",
    "    3. Pass\n",
    "4. Nested Loops\n",
    "5. "
   ]
  },
  {
   "cell_type": "code",
   "execution_count": null,
   "id": "bee75359",
   "metadata": {},
   "outputs": [
    {
     "data": {
      "text/plain": [
       "range(0, 5)"
      ]
     },
     "execution_count": 1,
     "metadata": {},
     "output_type": "execute_result"
    }
   ],
   "source": [
    "#Gives a sequence of numbers from 0 to 5\n",
    "range(0,5)\n"
   ]
  },
  {
   "cell_type": "code",
   "execution_count": 2,
   "id": "b22a0f07",
   "metadata": {},
   "outputs": [
    {
     "name": "stdout",
     "output_type": "stream",
     "text": [
      "0\n",
      "1\n",
      "2\n",
      "3\n",
      "4\n"
     ]
    }
   ],
   "source": [
    "#For Loop\n",
    "for i in range(5):\n",
    "    print(i)\n",
    "    "
   ]
  },
  {
   "cell_type": "code",
   "execution_count": 3,
   "id": "00b9e3da",
   "metadata": {},
   "outputs": [
    {
     "name": "stdout",
     "output_type": "stream",
     "text": [
      "1\n",
      "2\n",
      "3\n",
      "4\n",
      "5\n"
     ]
    }
   ],
   "source": [
    "for i in range(1,6):\n",
    "    print(i)"
   ]
  },
  {
   "cell_type": "code",
   "execution_count": 8,
   "id": "3ee8ea1a",
   "metadata": {},
   "outputs": [
    {
     "name": "stdout",
     "output_type": "stream",
     "text": [
      "0\n",
      "2\n",
      "4\n",
      "6\n",
      "8\n",
      "10\n",
      "12\n",
      "14\n",
      "16\n",
      "18\n",
      "20\n",
      "22\n",
      "24\n",
      "26\n",
      "28\n",
      "30\n",
      "32\n",
      "34\n",
      "36\n",
      "38\n",
      "40\n",
      "42\n",
      "44\n",
      "46\n",
      "48\n",
      "50\n",
      "52\n",
      "54\n",
      "56\n",
      "58\n",
      "60\n",
      "62\n",
      "64\n",
      "66\n",
      "68\n",
      "70\n",
      "72\n",
      "74\n",
      "76\n",
      "78\n",
      "80\n",
      "82\n",
      "84\n",
      "86\n",
      "88\n",
      "90\n",
      "92\n",
      "94\n",
      "96\n",
      "98\n"
     ]
    }
   ],
   "source": [
    "#List of all Even numbers from 0 to 100\n",
    "for i in  range(0,100,2):\n",
    "    print(i)"
   ]
  },
  {
   "cell_type": "code",
   "execution_count": 9,
   "id": "87933dc6",
   "metadata": {},
   "outputs": [
    {
     "name": "stdout",
     "output_type": "stream",
     "text": [
      "0\n",
      "1\n",
      "2\n",
      "3\n",
      "4\n",
      "5\n",
      "6\n",
      "7\n",
      "8\n",
      "9\n",
      "10\n",
      "11\n",
      "12\n",
      "13\n",
      "14\n",
      "15\n",
      "16\n",
      "17\n",
      "18\n",
      "19\n",
      "20\n",
      "21\n",
      "22\n",
      "23\n",
      "24\n",
      "25\n",
      "26\n",
      "27\n",
      "28\n",
      "29\n",
      "30\n",
      "31\n",
      "32\n",
      "33\n",
      "34\n",
      "35\n",
      "36\n",
      "37\n",
      "38\n",
      "39\n",
      "40\n",
      "41\n",
      "42\n",
      "43\n",
      "44\n",
      "45\n",
      "46\n",
      "47\n",
      "48\n",
      "49\n",
      "50\n",
      "51\n",
      "52\n",
      "53\n",
      "54\n",
      "55\n",
      "56\n",
      "57\n",
      "58\n",
      "59\n",
      "60\n",
      "61\n",
      "62\n",
      "63\n",
      "64\n",
      "65\n",
      "66\n",
      "67\n",
      "68\n",
      "69\n",
      "70\n",
      "71\n",
      "72\n",
      "73\n",
      "74\n",
      "75\n",
      "76\n",
      "77\n",
      "78\n",
      "79\n",
      "80\n",
      "81\n",
      "82\n",
      "83\n",
      "84\n",
      "85\n",
      "86\n",
      "87\n",
      "88\n",
      "89\n",
      "90\n",
      "91\n",
      "92\n",
      "93\n",
      "94\n",
      "95\n",
      "96\n",
      "97\n",
      "98\n",
      "99\n"
     ]
    }
   ],
   "source": [
    "#List of all Odd numbers from 0 to 100\n",
    "for i in  range(0,100,1):\n",
    "    print(i)"
   ]
  },
  {
   "cell_type": "code",
   "execution_count": 10,
   "id": "e7dfba60",
   "metadata": {},
   "outputs": [
    {
     "name": "stdout",
     "output_type": "stream",
     "text": [
      "50\n",
      "49\n",
      "48\n",
      "47\n",
      "46\n",
      "45\n",
      "44\n",
      "43\n",
      "42\n",
      "41\n",
      "40\n",
      "39\n",
      "38\n",
      "37\n",
      "36\n",
      "35\n",
      "34\n",
      "33\n",
      "32\n",
      "31\n",
      "30\n",
      "29\n",
      "28\n",
      "27\n",
      "26\n",
      "25\n",
      "24\n",
      "23\n",
      "22\n",
      "21\n",
      "20\n",
      "19\n",
      "18\n",
      "17\n",
      "16\n",
      "15\n",
      "14\n",
      "13\n",
      "12\n",
      "11\n",
      "10\n",
      "9\n",
      "8\n",
      "7\n",
      "6\n",
      "5\n",
      "4\n",
      "3\n",
      "2\n"
     ]
    }
   ],
   "source": [
    "#List of all Odd numbers from 50 to 1\n",
    "for i in  range(50,1,-1):\n",
    "    print(i)"
   ]
  },
  {
   "cell_type": "code",
   "execution_count": 12,
   "id": "9fea867f",
   "metadata": {},
   "outputs": [
    {
     "name": "stdout",
     "output_type": "stream",
     "text": [
      "A\n",
      "n\n",
      "i\n",
      "r\n",
      "u\n",
      "d\n",
      "h\n",
      " \n",
      "R\n",
      "a\n",
      "o\n"
     ]
    }
   ],
   "source": [
    "#String\n",
    "import string\n",
    "\n",
    "\n",
    "Name = (input('Enter your Name'))\n",
    "\n",
    "for i in (Name):\n",
    "    print(i)"
   ]
  },
  {
   "cell_type": "code",
   "execution_count": 14,
   "id": "b37b525b",
   "metadata": {},
   "outputs": [
    {
     "name": "stdout",
     "output_type": "stream",
     "text": [
      "0\n",
      "1\n",
      "2\n",
      "3\n",
      "4\n",
      "5\n"
     ]
    }
   ],
   "source": [
    "# While Loop\n",
    "count = 0\n",
    "\n",
    "while count <= 5:\n",
    "    print(count)\n",
    "    count = count+1\n"
   ]
  },
  {
   "cell_type": "code",
   "execution_count": 16,
   "id": "1ee4e300",
   "metadata": {},
   "outputs": [
    {
     "name": "stdout",
     "output_type": "stream",
     "text": [
      "0\n"
     ]
    }
   ],
   "source": [
    "count = 0\n",
    "while count % 2 == 0 and count <= 50:\n",
    "    print(count)\n",
    "    count = count+1"
   ]
  },
  {
   "cell_type": "code",
   "execution_count": 24,
   "id": "3a8dbc3d",
   "metadata": {},
   "outputs": [
    {
     "name": "stdout",
     "output_type": "stream",
     "text": [
      "0\n"
     ]
    }
   ],
   "source": [
    "# Loop Control Statements\n",
    "\n",
    "#Break\n",
    "\n",
    "count = 0\n",
    "while count != 20 :\n",
    "    print(count)\n",
    "    count = count+1\n",
    "    break"
   ]
  },
  {
   "cell_type": "code",
   "execution_count": 25,
   "id": "f1bae163",
   "metadata": {},
   "outputs": [
    {
     "name": "stdout",
     "output_type": "stream",
     "text": [
      "0\n",
      "1\n",
      "2\n",
      "3\n",
      "4\n",
      "5\n",
      "6\n",
      "7\n",
      "8\n",
      "9\n",
      "10\n",
      "11\n",
      "12\n",
      "13\n",
      "14\n",
      "15\n",
      "16\n",
      "17\n",
      "18\n",
      "19\n"
     ]
    }
   ],
   "source": [
    "#Continue\n",
    "\n",
    "count = 0\n",
    "while count != 20 :\n",
    "    print(count)\n",
    "    count = count+1\n",
    "    continue"
   ]
  },
  {
   "cell_type": "code",
   "execution_count": 27,
   "id": "c02e9f40",
   "metadata": {},
   "outputs": [
    {
     "name": "stdout",
     "output_type": "stream",
     "text": [
      "0\n",
      "1\n",
      "2\n",
      "number is 3\n",
      "3\n",
      "4\n"
     ]
    }
   ],
   "source": [
    "# Pass : Do nothing\n",
    "for i in range(5):\n",
    "    if i == 3:\n",
    "        print(f'number is {i}')\n",
    "        pass\n",
    "    print(i)\n"
   ]
  },
  {
   "cell_type": "code",
   "execution_count": 30,
   "id": "59066fb7",
   "metadata": {},
   "outputs": [
    {
     "name": "stdout",
     "output_type": "stream",
     "text": [
      "i:0 and j:0\n",
      "i:0 and j:1\n",
      "i:0 and j:2\n",
      "i:0 and j:3\n",
      "i:0 and j:4\n",
      "i:1 and j:0\n",
      "i:1 and j:1\n",
      "i:1 and j:2\n",
      "i:1 and j:3\n",
      "i:1 and j:4\n",
      "i:2 and j:0\n",
      "i:2 and j:1\n",
      "i:2 and j:2\n",
      "i:2 and j:3\n",
      "i:2 and j:4\n",
      "i:3 and j:0\n",
      "i:3 and j:1\n",
      "i:3 and j:2\n",
      "i:3 and j:3\n",
      "i:3 and j:4\n",
      "i:4 and j:0\n",
      "i:4 and j:1\n",
      "i:4 and j:2\n",
      "i:4 and j:3\n",
      "i:4 and j:4\n"
     ]
    }
   ],
   "source": [
    "#Nested Loops\n",
    "for i in range(5):\n",
    "    for j in range(5):\n",
    "        print(f\"i:{i} and j:{j}\")"
   ]
  },
  {
   "cell_type": "code",
   "execution_count": 31,
   "id": "91c7d411",
   "metadata": {},
   "outputs": [
    {
     "name": "stdout",
     "output_type": "stream",
     "text": [
      "Sum of first 10 Natural Numbers is  55\n"
     ]
    }
   ],
   "source": [
    "# Calculate the Sum of first N natural Numbers\n",
    "N = int(input(\"Enter the Value of N\"))\n",
    "\n",
    "sum = 0\n",
    "count = 1\n",
    "while count <= N:\n",
    "    sum = sum + count\n",
    "    count = count +1\n",
    "\n",
    "print(f'Sum of first {N} Natural Numbers is  {sum}')"
   ]
  },
  {
   "cell_type": "code",
   "execution_count": 32,
   "id": "98ee79ad",
   "metadata": {},
   "outputs": [
    {
     "name": "stdout",
     "output_type": "stream",
     "text": [
      "Sum of first 10 Natural Numbers is  55\n"
     ]
    }
   ],
   "source": [
    "N = int(input(\"Enter the Value of N\"))\n",
    "\n",
    "sum = 0\n",
    "count = 1\n",
    "for i in range(N):\n",
    "    sum = sum + count\n",
    "    count = count +1\n",
    "\n",
    "print(f'Sum of first {N} Natural Numbers is  {sum}')"
   ]
  },
  {
   "cell_type": "code",
   "execution_count": 33,
   "id": "223517cb",
   "metadata": {},
   "outputs": [
    {
     "name": "stdout",
     "output_type": "stream",
     "text": [
      "2\n",
      "3\n",
      "5\n",
      "7\n",
      "11\n",
      "13\n",
      "17\n",
      "19\n",
      "23\n",
      "29\n",
      "31\n",
      "37\n",
      "41\n",
      "43\n",
      "47\n",
      "53\n",
      "59\n",
      "61\n",
      "67\n",
      "71\n",
      "73\n",
      "79\n",
      "83\n",
      "89\n",
      "97\n"
     ]
    }
   ],
   "source": [
    "# Prime Numbers from 1 to 100\n",
    "for num in range(1,101):\n",
    "    if num > 1:\n",
    "        for i in range(2, num):\n",
    "            if num % i ==0:\n",
    "                break\n",
    "        else:\n",
    "            print(num)"
   ]
  }
 ],
 "metadata": {
  "kernelspec": {
   "display_name": ".venv (3.13.5)",
   "language": "python",
   "name": "python3"
  },
  "language_info": {
   "codemirror_mode": {
    "name": "ipython",
    "version": 3
   },
   "file_extension": ".py",
   "mimetype": "text/x-python",
   "name": "python",
   "nbconvert_exporter": "python",
   "pygments_lexer": "ipython3",
   "version": "3.13.5"
  }
 },
 "nbformat": 4,
 "nbformat_minor": 5
}
