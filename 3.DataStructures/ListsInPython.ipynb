{
 "cells": [
  {
   "cell_type": "markdown",
   "id": "cc1739d1",
   "metadata": {},
   "source": [
    "# Introduction to List\n",
    "\n",
    "1. Introduction to List\n",
    "2. Creating Lists\n",
    "3. Accessing List Elements\n",
    "4. Modifying List Elements\n",
    "5. List Methods\n",
    "6. Silcing Lists\n",
    "7. Iterating Over Lists\n",
    "8. List Comprehensions\n",
    "9. Nested Lists"
   ]
  },
  {
   "cell_type": "markdown",
   "id": "4231a06d",
   "metadata": {},
   "source": [
    "## Lists\n",
    "\n",
    "1. Lists are Ordered mutable collections of Items\n",
    "2. They can contain items of different data types"
   ]
  },
  {
   "cell_type": "code",
   "execution_count": 1,
   "id": "ad28056a",
   "metadata": {},
   "outputs": [
    {
     "name": "stdout",
     "output_type": "stream",
     "text": [
      "<class 'list'>\n"
     ]
    }
   ],
   "source": [
    "A = [1,2,3,3,4,5,6,7,8]\n",
    "print(type(A))"
   ]
  },
  {
   "cell_type": "code",
   "execution_count": 3,
   "id": "740c424e",
   "metadata": {},
   "outputs": [
    {
     "name": "stdout",
     "output_type": "stream",
     "text": [
      "['A', 1, 3.4, 'Anirudh']\n"
     ]
    }
   ],
   "source": [
    "Lst = ['A',1,3.4,\"Anirudh\"]\n",
    "print(Lst)"
   ]
  },
  {
   "cell_type": "code",
   "execution_count": 4,
   "id": "ee4e736d",
   "metadata": {},
   "outputs": [
    {
     "name": "stdout",
     "output_type": "stream",
     "text": [
      "['Apple', 'Bannana', 'cherry', 'Kiwi', 'Pomogrenate', 'Mango']\n"
     ]
    }
   ],
   "source": [
    "# Accesing Element\n",
    "fruits = [\"Apple\",\"Bannana\",\"cherry\",\"Kiwi\",\"Pomogrenate\",'Mango']\n",
    "print(fruits)"
   ]
  },
  {
   "cell_type": "code",
   "execution_count": 14,
   "id": "03b1084c",
   "metadata": {},
   "outputs": [
    {
     "name": "stdout",
     "output_type": "stream",
     "text": [
      "['Bannana', 'cherry', 'Kiwi', 'Pomogrenate', 'Mango']\n",
      "['Bannana', 'cherry']\n",
      "['Mango']\n"
     ]
    }
   ],
   "source": [
    "print(fruits[1:])\n",
    "print(fruits[1:3])\n",
    "print(fruits[-1:])\n",
    "\n"
   ]
  },
  {
   "cell_type": "code",
   "execution_count": 23,
   "id": "166dd9ff",
   "metadata": {},
   "outputs": [],
   "source": [
    "## Modifying List elements\n",
    "fruit = [\"Apple\",\"Bannana\",\"cherry\",\"Kiwi\",\"Pomogrenate\",'Mango']\n"
   ]
  },
  {
   "cell_type": "code",
   "execution_count": 17,
   "id": "b7045229",
   "metadata": {},
   "outputs": [
    {
     "name": "stdout",
     "output_type": "stream",
     "text": [
      "['Apple', 'Bannana', 'cherry', 'Kiwi', 'Watermelom', 'Mango']\n"
     ]
    }
   ],
   "source": [
    "fruit[4] = \"Watermelom\"\n",
    "print(fruit)"
   ]
  },
  {
   "cell_type": "code",
   "execution_count": 24,
   "id": "ea5da0ef",
   "metadata": {},
   "outputs": [
    {
     "name": "stdout",
     "output_type": "stream",
     "text": [
      "['Apple', 'Bannana', 'cherry', 'Kiwi', 'Pomogrenate', 'Mango', 'Orange']\n"
     ]
    }
   ],
   "source": [
    "#list Methods\n",
    "fruit.append(\"Orange\")\n",
    "print(fruit)"
   ]
  },
  {
   "cell_type": "code",
   "execution_count": 25,
   "id": "012c5553",
   "metadata": {},
   "outputs": [
    {
     "name": "stdout",
     "output_type": "stream",
     "text": [
      "['Apple', 'Blackberry', 'Bannana', 'cherry', 'Kiwi', 'Pomogrenate', 'Mango', 'Orange']\n"
     ]
    }
   ],
   "source": [
    "fruit.insert(1,\"Blackberry\")\n",
    "print(fruit)"
   ]
  }
 ],
 "metadata": {
  "kernelspec": {
   "display_name": ".venv (3.13.5)",
   "language": "python",
   "name": "python3"
  },
  "language_info": {
   "codemirror_mode": {
    "name": "ipython",
    "version": 3
   },
   "file_extension": ".py",
   "mimetype": "text/x-python",
   "name": "python",
   "nbconvert_exporter": "python",
   "pygments_lexer": "ipython3",
   "version": "3.13.5"
  }
 },
 "nbformat": 4,
 "nbformat_minor": 5
}
