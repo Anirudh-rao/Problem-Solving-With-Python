{
 "cells": [
  {
   "cell_type": "markdown",
   "id": "29d42530",
   "metadata": {},
   "source": [
    "# Function Examples:\n",
    "\n",
    "## Examples 1: Temperature Conversion"
   ]
  },
  {
   "cell_type": "code",
   "execution_count": 2,
   "id": "b60b356c",
   "metadata": {},
   "outputs": [
    {
     "name": "stdout",
     "output_type": "stream",
     "text": [
      "77.0\n",
      "25.0\n"
     ]
    }
   ],
   "source": [
    "def conver_temp(temp,unit):\n",
    "    \"\"\"This Function Converts Temperature between Celsius to Fahrenheit\"\"\"\n",
    "    if unit == 'C':\n",
    "        return temp * 9/5 + 32\n",
    "    elif unit == 'F':\n",
    "        return (temp - 32) * 5 / 9\n",
    "    else:\n",
    "        return None\n",
    "\n",
    "print(conver_temp(25,'C'))\n",
    "print(conver_temp(77,'F'))   "
   ]
  },
  {
   "cell_type": "markdown",
   "id": "028347df",
   "metadata": {},
   "source": [
    "## Example 2: Password Strength Checker"
   ]
  },
  {
   "cell_type": "code",
   "execution_count": 3,
   "id": "9607fe69",
   "metadata": {},
   "outputs": [
    {
     "name": "stdout",
     "output_type": "stream",
     "text": [
      "False\n",
      "True\n"
     ]
    }
   ],
   "source": [
    "def is_strong_password(password):\n",
    "    \"\"\"This function checks if the password is strong or not\"\"\"\n",
    "    if len(password)<8:\n",
    "        return False\n",
    "    if not any(char.isdigit() for char in password):\n",
    "        return False\n",
    "    if not any(char.islower() for char in password):\n",
    "        return False\n",
    "    if not any(char.isupper() for char in password):\n",
    "        return False\n",
    "    if not any(char in '!@#$%^&*()_+' for char in password):\n",
    "        return False\n",
    "    return True\n",
    "\n",
    "## calling the function\n",
    "print(is_strong_password(\"WeakPwd\"))\n",
    "print(is_strong_password(\"Str0ngPwd!\"))"
   ]
  },
  {
   "cell_type": "markdown",
   "id": "c920f9ee",
   "metadata": {},
   "source": [
    "## Example 3: Calculate the Total Cost of Items in a Shopping Cart"
   ]
  },
  {
   "cell_type": "code",
   "execution_count": 7,
   "id": "295ffaa3",
   "metadata": {},
   "outputs": [
    {
     "name": "stdout",
     "output_type": "stream",
     "text": [
      "5.8999999999999995\n"
     ]
    }
   ],
   "source": [
    "def calculate_total_cost(cart):\n",
    "    total_cost = 0\n",
    "    for item in cart:\n",
    "        total_cost += item['price'] * item['quantity']\n",
    "    return total_cost\n",
    "\n",
    "cart=[\n",
    "    {'name':'Apple','price':0.5,'quantity':4},\n",
    "    {'name':'Banana','price':0.3,'quantity':6},\n",
    "    {'name':'Orange','price':0.7,'quantity':3}\n",
    "\n",
    "]\n",
    "\n",
    "## calling the function\n",
    "total_cost=calculate_total_cost(cart)\n",
    "print(total_cost)"
   ]
  },
  {
   "cell_type": "markdown",
   "id": "6a09d9c8",
   "metadata": {},
   "source": [
    "## Example 4: Check if String is Palindrome"
   ]
  },
  {
   "cell_type": "code",
   "execution_count": 8,
   "id": "37ea9ea2",
   "metadata": {},
   "outputs": [
    {
     "name": "stdout",
     "output_type": "stream",
     "text": [
      "True\n",
      "False\n"
     ]
    }
   ],
   "source": [
    "def is_palindrome(s):\n",
    "    s = s.lower().replace(\" \",\"\")\n",
    "    return s == s[::-1]\n",
    "\n",
    "print(is_palindrome(\"A man a plan a canal Panama\"))\n",
    "print(is_palindrome(\"Hello\"))\n"
   ]
  },
  {
   "cell_type": "markdown",
   "id": "320d6868",
   "metadata": {},
   "source": [
    "## Example 5: Calculate factorial of number using recursion"
   ]
  },
  {
   "cell_type": "code",
   "execution_count": 9,
   "id": "35f1a5f5",
   "metadata": {},
   "outputs": [
    {
     "name": "stdout",
     "output_type": "stream",
     "text": [
      "720\n"
     ]
    }
   ],
   "source": [
    "def factorial(n):\n",
    "    if n == 0:\n",
    "        return 1\n",
    "    else:\n",
    "        return n * factorial(n-1)\n",
    "    \n",
    "print(factorial(6))"
   ]
  },
  {
   "cell_type": "markdown",
   "id": "6d8fd8c1",
   "metadata": {},
   "source": [
    "## Example 6: A Function to read a file and count the frequency of each word\n"
   ]
  },
  {
   "cell_type": "code",
   "execution_count": 13,
   "id": "080eb996",
   "metadata": {},
   "outputs": [
    {
     "name": "stdout",
     "output_type": "stream",
     "text": [
      "{'lorem': 10, 'ipsum': 10, 'dolor': 10, 'sit': 10, 'amet': 10, 'consectetur': 10, 'adipiscing': 10, 'elit': 10, 'quisque': 10, 'faucibus': 10, 'ex': 10, 'sapien': 10, 'vitae': 10, 'pellentesque': 10, 'sem': 10, 'placerat': 10, 'in': 10, 'id': 10, 'cursus': 10, 'mi': 10, 'pretium': 10, 'tellus': 10, 'duis': 10, 'convallis': 10, 'tempus': 10, 'leo': 10, 'eu': 10, 'aenean': 10, 'sed': 10, 'diam': 10, 'urna': 10, 'tempor': 10, 'pulvinar': 10, 'vivamus': 10, 'fringilla': 10, 'lacus': 10, 'nec': 10, 'metus': 10, 'bibendum': 10, 'egestas': 10, 'iaculis': 10, 'massa': 10, 'nisl': 10, 'malesuada': 10, 'lacinia': 10, 'integer': 10, 'nunc': 10, 'posuere': 10, 'ut': 10, 'hendrerit': 10, 'semper': 10, 'vel': 10, 'class': 10, 'aptent': 10, 'taciti': 10, 'sociosqu': 10, 'ad': 10, 'litora': 10, 'torquent': 10, 'per': 10, 'conubia': 10, 'nostra': 10, 'inceptos': 10, 'himenaeos': 10}\n"
     ]
    }
   ],
   "source": [
    "def count_word_frequency(file_path):\n",
    "    word_count = {}\n",
    "    with open(file_path,'r') as file:\n",
    "        for line in file:\n",
    "            words = line.split()\n",
    "            for word in words:\n",
    "                word = word.lower().strip(('.,!?;:\"\\''))\n",
    "                word_count[word] = word_count.get(word,0)+1\n",
    "    return word_count\n",
    "\n",
    "file_path='/Users/rookr/Documents/Problem-Solving-With-Python/4.Functions/data/sample.txt'\n",
    "word_frequency=count_word_frequency(file_path)\n",
    "print(word_frequency)\n"
   ]
  },
  {
   "cell_type": "markdown",
   "id": "0bcaf298",
   "metadata": {},
   "source": [
    "## Example 7: Validate Email Address"
   ]
  },
  {
   "cell_type": "code",
   "execution_count": 14,
   "id": "f569e27c",
   "metadata": {},
   "outputs": [
    {
     "name": "stdout",
     "output_type": "stream",
     "text": [
      "True\n",
      "False\n"
     ]
    }
   ],
   "source": [
    "import re\n",
    "\n",
    "# Email validation function\n",
    "def is_valid_email(email):\n",
    "    \"\"\"This function checks if the email is valid.\"\"\"\n",
    "    pattern = r'^[a-zA-Z0-9_.+-]+@[a-zA-Z0-9-]+\\.[a-zA-Z0-9-.]+$'\n",
    "    return re.match(pattern, email) is not None\n",
    "\n",
    "# Calling the function\n",
    "print(is_valid_email(\"test@example.com\"))  # Output: True\n",
    "print(is_valid_email(\"invalid-email\"))  # Output: False\n"
   ]
  }
 ],
 "metadata": {
  "kernelspec": {
   "display_name": ".venv (3.13.5)",
   "language": "python",
   "name": "python3"
  },
  "language_info": {
   "codemirror_mode": {
    "name": "ipython",
    "version": 3
   },
   "file_extension": ".py",
   "mimetype": "text/x-python",
   "name": "python",
   "nbconvert_exporter": "python",
   "pygments_lexer": "ipython3",
   "version": "3.13.5"
  }
 },
 "nbformat": 4,
 "nbformat_minor": 5
}
